{
  "nbformat": 4,
  "nbformat_minor": 0,
  "metadata": {
    "colab": {
      "provenance": [],
      "authorship_tag": "ABX9TyPds8bmXOmDuY0kwpD5QCs0",
      "include_colab_link": true
    },
    "kernelspec": {
      "name": "python3",
      "display_name": "Python 3"
    },
    "language_info": {
      "name": "python"
    }
  },
  "cells": [
    {
      "cell_type": "markdown",
      "metadata": {
        "id": "view-in-github",
        "colab_type": "text"
      },
      "source": [
        "<a href=\"https://colab.research.google.com/github/Farooq044/DAA/blob/main/Untitled0.ipynb\" target=\"_parent\"><img src=\"https://colab.research.google.com/assets/colab-badge.svg\" alt=\"Open In Colab\"/></a>"
      ]
    },
    {
      "cell_type": "code",
      "execution_count": 4,
      "metadata": {
        "colab": {
          "base_uri": "https://localhost:8080/"
        },
        "id": "1PLa5-x0GdYF",
        "outputId": "604a5fd7-1d9c-48b6-b51c-815262085e86"
      },
      "outputs": [
        {
          "output_type": "stream",
          "name": "stdout",
          "text": [
            "Enter x 5\n",
            "Enter y 7\n",
            "12\n"
          ]
        }
      ],
      "source": [
        "x=int(input(\"Enter x \"))\n",
        "y=int(input(\"Enter y \"))\n",
        "print(x+y)"
      ]
    },
    {
      "cell_type": "code",
      "source": [
        "while True:\n",
        " x = int(input(\"Enter x\"))\n",
        " y = int(input(\"Enter y\"))\n",
        " c = input(\"Enter op\")\n",
        " if c == \"+\":\n",
        "  print(x + y)\n",
        " elif c == \"-\":\n",
        "  print(x - y)\n",
        " else:\n",
        "  print(\"noob\")"
      ],
      "metadata": {
        "colab": {
          "base_uri": "https://localhost:8080/"
        },
        "id": "llxgoS6EHLGi",
        "outputId": "ff2d5cd0-3e69-4640-91d6-0283cf92e0bc"
      },
      "execution_count": null,
      "outputs": [
        {
          "output_type": "stream",
          "name": "stdout",
          "text": [
            "Enter x6\n",
            "Enter y7\n",
            "Enter op?\n",
            "noob\n"
          ]
        }
      ]
    },
    {
      "cell_type": "code",
      "source": [
        "def greedy_coins(value):\n",
        " coins = [10, 5, 2, 1]\n",
        " result = []\n",
        " for coin in coins:\n",
        "  while value >= coin:\n",
        "   value -= coin\n",
        "   result.append(coin)\n",
        " return result\n",
        "print(greedy_coins(20))"
      ],
      "metadata": {
        "id": "Uy2UCIL0K6BS"
      },
      "execution_count": null,
      "outputs": []
    }
  ]
}