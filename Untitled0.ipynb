{
  "nbformat": 4,
  "nbformat_minor": 0,
  "metadata": {
    "colab": {
      "provenance": [],
      "authorship_tag": "ABX9TyMe/mt+TkC0V/M1Ocx4qCOv",
      "include_colab_link": true
    },
    "kernelspec": {
      "name": "python3",
      "display_name": "Python 3"
    },
    "language_info": {
      "name": "python"
    }
  },
  "cells": [
    {
      "cell_type": "markdown",
      "metadata": {
        "id": "view-in-github",
        "colab_type": "text"
      },
      "source": [
        "<a href=\"https://colab.research.google.com/github/Farooq044/DAA/blob/main/Untitled0.ipynb\" target=\"_parent\"><img src=\"https://colab.research.google.com/assets/colab-badge.svg\" alt=\"Open In Colab\"/></a>"
      ]
    },
    {
      "cell_type": "code",
      "execution_count": null,
      "metadata": {
        "colab": {
          "base_uri": "https://localhost:8080/"
        },
        "id": "1PLa5-x0GdYF",
        "outputId": "604a5fd7-1d9c-48b6-b51c-815262085e86"
      },
      "outputs": [
        {
          "output_type": "stream",
          "name": "stdout",
          "text": [
            "Enter x 5\n",
            "Enter y 7\n",
            "12\n"
          ]
        }
      ],
      "source": [
        "x=int(input(\"Enter x \"))\n",
        "y=int(input(\"Enter y \"))\n",
        "print(x+y)"
      ]
    },
    {
      "cell_type": "code",
      "source": [
        "while True:\n",
        " x = int(input(\"Enter x\"))\n",
        " y = int(input(\"Enter y\"))\n",
        " c = input(\"Enter op\")\n",
        " if c == \"+\":\n",
        "  print(x + y)\n",
        " elif c == \"-\":\n",
        "  print(x - y)\n",
        " else:\n",
        "  print(\"noob\")"
      ],
      "metadata": {
        "colab": {
          "base_uri": "https://localhost:8080/"
        },
        "id": "llxgoS6EHLGi",
        "outputId": "ff2d5cd0-3e69-4640-91d6-0283cf92e0bc"
      },
      "execution_count": null,
      "outputs": [
        {
          "output_type": "stream",
          "name": "stdout",
          "text": [
            "Enter x6\n",
            "Enter y7\n",
            "Enter op?\n",
            "noob\n"
          ]
        }
      ]
    },
    {
      "cell_type": "code",
      "source": [
        "def greedy_coins(value):\n",
        " coins = [10, 5, 2, 1]\n",
        " result = []\n",
        " for coin in coins:\n",
        "  while value >= coin:\n",
        "   value -= coin\n",
        "   result.append(coin)\n",
        " return result\n",
        "print(greedy_coins(20))"
      ],
      "metadata": {
        "id": "Uy2UCIL0K6BS",
        "outputId": "93030f11-1770-4547-e710-b38a40c05ef5",
        "colab": {
          "base_uri": "https://localhost:8080/"
        }
      },
      "execution_count": 1,
      "outputs": [
        {
          "output_type": "stream",
          "name": "stdout",
          "text": [
            "[10, 10]\n"
          ]
        }
      ]
    },
    {
      "cell_type": "code",
      "source": [
        "def is_prime(n):\n",
        " if n<=1:\n",
        "  return False\n",
        " for i in range(2, int(n**0.5) + 1):\n",
        "  if n%i == 0:\n",
        "   return False\n",
        " return True\n",
        "\n",
        "number = 1787651\n",
        "if is_prime(number):\n",
        " print(f\"{number} is a Prime Number\")\n",
        "else:\n",
        " print(f\"{number} is Not a Prime Number\")"
      ],
      "metadata": {
        "id": "7PqnG45uPcnh",
        "outputId": "4f8857d8-d36e-4fc4-b3e5-b7f2dc838dad",
        "colab": {
          "base_uri": "https://localhost:8080/"
        }
      },
      "execution_count": 3,
      "outputs": [
        {
          "output_type": "stream",
          "name": "stdout",
          "text": [
            "1787651 is a Prime Number\n"
          ]
        }
      ]
    }
  ]
}